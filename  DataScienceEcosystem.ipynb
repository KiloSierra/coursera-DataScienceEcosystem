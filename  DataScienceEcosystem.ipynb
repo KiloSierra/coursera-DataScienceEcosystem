{
 "cells": [
  {
   "cell_type": "markdown",
   "id": "1f2203b2-1fc9-4895-b3f4-d0c102ebfc37",
   "metadata": {
    "tags": []
   },
   "source": [
    "# Data Science Tools and Ecosystem"
   ]
  },
  {
   "cell_type": "markdown",
   "id": "70ea24fa-de2a-4911-8af4-6dc0f3ab4671",
   "metadata": {},
   "source": [
    "In this notebook, Data Science Tools and Ecosystem are summarized."
   ]
  },
  {
   "cell_type": "markdown",
   "id": "da2956f5-83ab-4d8c-b9ee-ef151aa13a34",
   "metadata": {},
   "source": [
    "**Objective:**\n",
    "- List popular languages for data science\n",
    "- List commonly used libraries in data science\n",
    "- List common data science tools\n",
    "- List commonly used libraries in data science\n",
    "- Demonstrate some basic python functions"
   ]
  },
  {
   "cell_type": "markdown",
   "id": "f687753f-0740-4231-9265-0bf20d6eae4f",
   "metadata": {},
   "source": [
    "## Author\n",
    "Kyle S."
   ]
  },
  {
   "cell_type": "markdown",
   "id": "da7efbb6-9dd7-43f5-9827-bd592a0cdcca",
   "metadata": {},
   "source": [
    "## Some of the popular languages that Data Scientists use are:\n",
    "\n",
    "1. Python\n",
    "2. R\n",
    "3. SQL\n",
    "4. Scala\n",
    "5. Java\n",
    "6. C++\n",
    "7. Julia"
   ]
  },
  {
   "cell_type": "markdown",
   "id": "705cc266-362f-4bff-b9ed-deae8df2202e",
   "metadata": {},
   "source": [
    "## Some of the commonly used libraries used by Data Scientists include:\n",
    "\n",
    "1. Pandas\n",
    "2. Numpy\n",
    "3. Matplotlib\n",
    "4. Scikit-learn\n",
    "5. Spark\n",
    "6. ggplot2\n",
    "7. Tensorflow"
   ]
  },
  {
   "cell_type": "markdown",
   "id": "ee8a00ca-d26c-40d9-bc15-5de6500e5e15",
   "metadata": {
    "tags": []
   },
   "source": [
    "|Data science tools |\n",
    "| ------- |\n",
    "|Jupyter Lab|\n",
    "|Apache Zepplin|\n",
    "|Rstudio|"
   ]
  },
  {
   "cell_type": "markdown",
   "id": "a4484aef-64b2-4745-97c7-57fedcb8a7cf",
   "metadata": {},
   "source": [
    "### Below are a few examples of evaluating arithmetic expressions in Python"
   ]
  },
  {
   "cell_type": "code",
   "execution_count": 9,
   "id": "a4e9a778-0840-4820-9300-7ff311e08565",
   "metadata": {
    "tags": []
   },
   "outputs": [
    {
     "data": {
      "text/plain": [
       "17"
      ]
     },
     "execution_count": 9,
     "metadata": {},
     "output_type": "execute_result"
    }
   ],
   "source": [
    "#This a simple arithmetic expression to mutiply then add integers\n",
    "(3*4)+5"
   ]
  },
  {
   "cell_type": "code",
   "execution_count": 10,
   "id": "d09ec4db-2e0e-446f-9d7d-a6c5a677039a",
   "metadata": {
    "tags": []
   },
   "outputs": [
    {
     "data": {
      "text/plain": [
       "3.3333333333333335"
      ]
     },
     "execution_count": 10,
     "metadata": {},
     "output_type": "execute_result"
    }
   ],
   "source": [
    "#This will convert 200 minutes to hours by dividing by 60\n",
    "200/60"
   ]
  }
 ],
 "metadata": {
  "kernelspec": {
   "display_name": "Python 3 (ipykernel)",
   "language": "python",
   "name": "python3"
  },
  "language_info": {
   "codemirror_mode": {
    "name": "ipython",
    "version": 3
   },
   "file_extension": ".py",
   "mimetype": "text/x-python",
   "name": "python",
   "nbconvert_exporter": "python",
   "pygments_lexer": "ipython3",
   "version": "3.11.5"
  }
 },
 "nbformat": 4,
 "nbformat_minor": 5
}
